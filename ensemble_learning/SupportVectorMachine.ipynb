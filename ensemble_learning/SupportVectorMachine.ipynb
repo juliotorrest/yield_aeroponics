{
 "cells": [
  {
   "cell_type": "markdown",
   "metadata": {},
   "source": [
    "First we need to import the useful libraries and load the data that we have previously prepared."
   ]
  },
  {
   "cell_type": "code",
   "execution_count": 1,
   "metadata": {},
   "outputs": [],
   "source": [
    "import os\n",
    "import h5py\n",
    "import csv\n",
    "import numpy as np\n",
    "import matplotlib.pyplot as plt\n",
    "import pickle\n",
    "from sklearn.model_selection import KFold\n",
    "from sklearn.preprocessing import StandardScaler\n",
    "from sklearn.metrics import mean_squared_error, r2_score, mean_absolute_error\n",
    "from sklearn.svm import SVR"
   ]
  },
  {
   "cell_type": "code",
   "execution_count": 4,
   "metadata": {},
   "outputs": [
    {
     "name": "stdout",
     "output_type": "stream",
     "text": [
      "\n",
      "Loading data...\n",
      "\n",
      "Samples loaded successfully: (200, 18)\n",
      "Labels loaded successfully: (200,)\n"
     ]
    }
   ],
   "source": [
    "#Load data and labels\n",
    "print('\\nLoading data...\\n')\n",
    "\n",
    "project_dir='path/to/data'\n",
    "file_name_h5 = os.path.join(project_dir, 'farmboys_data.h5')\n",
    "h5f = h5py.File(file_name_h5,'r')\n",
    "X = h5f['dataset'][:]\n",
    "h5f.close()\n",
    "\n",
    "y_list=[]\n",
    "file_name_txt = os.path.join(project_dir, 'farmboys_labels.txt')\n",
    "file = open(file_name_txt,\"r\") \n",
    "for line in file:\n",
    "    y_list.append(line.strip())\n",
    "y=np.asarray(y_list).astype(np.float64)\n",
    "\n",
    "print('Samples loaded successfully:',X.shape)\n",
    "print('Labels loaded successfully:',y.shape)"
   ]
  },
  {
   "cell_type": "markdown",
   "metadata": {},
   "source": [
    "Now we create and train the Random Forest model, using 10-fold validation."
   ]
  },
  {
   "cell_type": "code",
   "execution_count": 5,
   "metadata": {},
   "outputs": [
    {
     "name": "stdout",
     "output_type": "stream",
     "text": [
      "\n",
      "Model created successfully!\n",
      "\n"
     ]
    }
   ],
   "source": [
    "# Create model\n",
    "model = SVR(kernel='rbf', C=100, gamma=0.1, epsilon=.1)\n",
    "print(\"\\nModel created successfully!\\n\")"
   ]
  },
  {
   "cell_type": "code",
   "execution_count": 6,
   "metadata": {},
   "outputs": [
    {
     "name": "stdout",
     "output_type": "stream",
     "text": [
      "\n",
      "Training finished correctly!\n",
      "\n"
     ]
    }
   ],
   "source": [
    "#Training the model\n",
    "kf= KFold(n_splits=10,shuffle=True,random_state=42)\n",
    "\n",
    "y_train=[]\n",
    "y_test=[]\n",
    "train_pred=[]\n",
    "test_pred=[]\n",
    "mse_train_results=[]\n",
    "mse_test_results=[]\n",
    "me_train_results=[]\n",
    "me_test_results=[]\n",
    "r2_train_results=[]\n",
    "r2_test_results=[]\n",
    "\n",
    "for train, test in kf.split(X,y): \n",
    "    y_train.append(y[train])\n",
    "    y_test.append(y[test])\n",
    "    model.fit(X[train],y[train])\n",
    "    \n",
    "    y_train_pred=model.predict(X[train])\n",
    "    y_test_pred=model.predict(X[test])\n",
    "    train_pred.append(y_train_pred)\n",
    "    test_pred.append(y_test_pred)\n",
    "    \n",
    "    mse_train=mean_squared_error(y[train],y_train_pred)\n",
    "    mse_test=mean_squared_error(y[test],y_test_pred)\n",
    "    mse_train_results.append(mse_train)\n",
    "    mse_test_results.append(mse_test)\n",
    "    \n",
    "    me_train=mean_absolute_error(y[train],y_train_pred)\n",
    "    me_test=mean_absolute_error(y[test],y_test_pred)\n",
    "    me_train_results.append(me_train)\n",
    "    me_test_results.append(me_test)\n",
    "    \n",
    "    r2_train=r2_score(y[train],y_train_pred)\n",
    "    r2_test=r2_score(y[test],y_test_pred)\n",
    "    r2_train_results.append(r2_train)\n",
    "    r2_test_results.append(r2_test)\n",
    "\n",
    "print(\"\\nTraining finished correctly!\\n\")"
   ]
  },
  {
   "cell_type": "markdown",
   "metadata": {},
   "source": [
    "Then we evaluate our predictions, using MAE (mean absolute error), MSE (mean squared error), and R2 (coefficient of determination)."
   ]
  },
  {
   "cell_type": "code",
   "execution_count": 7,
   "metadata": {},
   "outputs": [
    {
     "name": "stdout",
     "output_type": "stream",
     "text": [
      "Results:\n",
      "\n",
      "K-fold:  1\n",
      "MSE train: 0.050   MSE validation: 0.144\n",
      "MAE train: 0.133   MAE validation: 0.329\n",
      "r^2 train: 0.895   r^2 validation: 0.860\n",
      "\n",
      "K-fold:  2\n",
      "MSE train: 0.047   MSE validation: 0.117\n",
      "MAE train: 0.132   MAE validation: 0.224\n",
      "r^2 train: 0.909   r^2 validation: 0.814\n",
      "\n",
      "K-fold:  3\n",
      "MSE train: 0.046   MSE validation: 0.258\n",
      "MAE train: 0.135   MAE validation: 0.306\n",
      "r^2 train: 0.919   r^2 validation: -0.128\n",
      "\n",
      "K-fold:  4\n",
      "MSE train: 0.053   MSE validation: 0.085\n",
      "MAE train: 0.139   MAE validation: 0.203\n",
      "r^2 train: 0.906   r^2 validation: 0.621\n",
      "\n",
      "K-fold:  5\n",
      "MSE train: 0.057   MSE validation: 0.113\n",
      "MAE train: 0.144   MAE validation: 0.240\n",
      "r^2 train: 0.893   r^2 validation: 0.773\n",
      "\n",
      "K-fold:  6\n",
      "MSE train: 0.050   MSE validation: 0.105\n",
      "MAE train: 0.137   MAE validation: 0.189\n",
      "r^2 train: 0.914   r^2 validation: -0.716\n",
      "\n",
      "K-fold:  7\n",
      "MSE train: 0.055   MSE validation: 0.082\n",
      "MAE train: 0.142   MAE validation: 0.193\n",
      "r^2 train: 0.901   r^2 validation: 0.759\n",
      "\n",
      "K-fold:  8\n",
      "MSE train: 0.052   MSE validation: 0.077\n",
      "MAE train: 0.137   MAE validation: 0.182\n",
      "r^2 train: 0.898   r^2 validation: 0.886\n",
      "\n",
      "K-fold:  9\n",
      "MSE train: 0.060   MSE validation: 0.077\n",
      "MAE train: 0.141   MAE validation: 0.196\n",
      "r^2 train: 0.878   r^2 validation: 0.916\n",
      "\n",
      "K-fold:  10\n",
      "MSE train: 0.051   MSE validation: 0.174\n",
      "MAE train: 0.137   MAE validation: 0.263\n",
      "r^2 train: 0.906   r^2 validation: 0.600\n",
      "\n",
      "Average values:\n",
      "MSE train: 0.052   MSE validation: 0.123\n",
      "MAE train: 0.138   MAE validation: 0.233\n",
      "r^2 train: 0.902   r^2 validation: 0.539\n"
     ]
    }
   ],
   "source": [
    "print('Results:')\n",
    "for i in range(len(mse_train_results)):\n",
    "    print('\\nK-fold: ',i+1)\n",
    "    print('MSE train: {0:.3f}   MSE validation: {1:.3f}'.format(mse_train_results[i],\n",
    "          mse_test_results[i]))\n",
    "    print('MAE train: {0:.3f}   MAE validation: {1:.3f}'.format(me_train_results[i],\n",
    "          me_test_results[i]))\n",
    "    print('r^2 train: {0:.3f}   r^2 validation: {1:.3f}'.format(r2_train_results[i],\n",
    "          r2_test_results[i]))\n",
    "\n",
    "print('\\nAverage values:')    \n",
    "print('MSE train: {0:.3f}   MSE validation: {1:.3f}'.format(np.mean(mse_train_results),\n",
    "      np.mean(mse_test_results)))\n",
    "print('MAE train: {0:.3f}   MAE validation: {1:.3f}'.format(np.mean(me_train_results),\n",
    "      np.mean(me_test_results)))\n",
    "print('r^2 train: {0:.3f}   r^2 validation: {1:.3f}'.format(np.mean(r2_train_results),\n",
    "      np.mean(r2_test_results)))"
   ]
  },
  {
   "cell_type": "markdown",
   "metadata": {},
   "source": [
    "We can see that the results are fairly good for the training set, and not so bad for validation. However, it is also important to have some visualization of the results."
   ]
  },
  {
   "cell_type": "markdown",
   "metadata": {},
   "source": [
    "Ideally, predictions should follow the red line in the middle. The residuals plot helps us to see if there are any patterns in the predictions."
   ]
  },
  {
   "cell_type": "code",
   "execution_count": 8,
   "metadata": {},
   "outputs": [
    {
     "data": {
      "image/png": "[encoded data removed]",
      "text/plain": [
       "<Figure size 1080x720 with 1 Axes>"
      ]
     },
     "metadata": {
      "needs_background": "light"
     },
     "output_type": "display_data"
    }
   ],
   "source": [
    "#Residuals plot\n",
    "a=np.concatenate(train_pred)\n",
    "b=np.concatenate(y_train)\n",
    "diff_train=a-b\n",
    "\n",
    "c=np.concatenate(test_pred)\n",
    "d=np.concatenate(y_test)\n",
    "diff_test=c-d\n",
    "\n",
    "title='Residual_plot_RF'\n",
    "plt.figure(title,figsize=(15,10))\n",
    "plt.scatter(a,diff_train,c='blue',label='Train data')\n",
    "plt.scatter(c,diff_test,c='green',label='Validation data')\n",
    "plt.xlabel('Predicted values')\n",
    "plt.ylabel('Residuals')\n",
    "plt.legend(loc='upper left')\n",
    "plt.hlines(y=0,xmin=min(a),xmax=max(a),lw=2,color='red')\n",
    "plt.show()"
   ]
  },
  {
   "cell_type": "markdown",
   "metadata": {},
   "source": [
    "We also need to see how well the predictions fit the ground truth."
   ]
  },
  {
   "cell_type": "code",
   "execution_count": 10,
   "metadata": {},
   "outputs": [
    {
     "data": {
      "image/png": "[encoded data removed]",
      "text/plain": [
       "<Figure size 720x504 with 1 Axes>"
      ]
     },
     "metadata": {
      "needs_background": "light"
     },
     "output_type": "display_data"
    }
   ],
   "source": [
    "#Plot regression\n",
    "title='Real_and_predicted_values_RF'\n",
    "plt.figure(title,figsize=(10,7))\n",
    "plt.scatter(c,d,c='green',marker='x',label='Validation data')\n",
    "plt.scatter(a,b,c='blue',marker='o',label='Train data', alpha=0.25)\n",
    "plt.xlabel('Predicted values (yield)')\n",
    "plt.ylabel('Real values (yield)')\n",
    "plt.legend(loc='upper left')\n",
    "plt.text(max(c)-1,min(d),\n",
    "         'R2_score_val = '+str(round(np.mean(r2_test_results),3))+\n",
    "         '\\nR2_score_train = '+str(round(np.mean(r2_train_results),3)),\n",
    "         color='red')\n",
    "plt.show()"
   ]
  },
  {
   "cell_type": "markdown",
   "metadata": {},
   "source": [
    "Finally, we can save those results and the model, for future analysis and to predict future samples."
   ]
  },
  {
   "cell_type": "code",
   "execution_count": 13,
   "metadata": {},
   "outputs": [
    {
     "name": "stdout",
     "output_type": "stream",
     "text": [
      "\n",
      "Results generated correctly!\n",
      "\n",
      "Model saved correctly!\n",
      "\n",
      "Job finished! =) \n",
      "\n"
     ]
    }
   ],
   "source": [
    "#Writing to CSV\n",
    "file_summary=project_dir+'/results_summary_rf.csv'\n",
    "\n",
    "with open(file_summary, 'w', newline='') as csvfile:\n",
    "    results = csv.writer(csvfile, delimiter=',')\n",
    "    results.writerow(['Average values (metrics):'])\n",
    "    results.writerow(['MSE train:'])\n",
    "    results.writerow([np.mean(mse_train_results)])\n",
    "    results.writerow(['MSE validation:'])\n",
    "    results.writerow([np.mean(mse_test_results)])\n",
    "    results.writerow(['MAE train:'])\n",
    "    results.writerow([np.mean(me_train_results)])\n",
    "    results.writerow(['MAE validation:'])\n",
    "    results.writerow([np.mean(me_test_results)])\n",
    "    results.writerow(['r^2 train:'])\n",
    "    results.writerow([np.mean(r2_train_results)])\n",
    "    results.writerow(['r^2 validation:'])\n",
    "    results.writerow([np.mean(r2_test_results)])\n",
    "\n",
    "print(\"\\nResults generated correctly!\\n\")\n",
    "\n",
    "#Saving model\n",
    "model_file=os.path.join(project_dir,'model_rf.sav')\n",
    "pickle.dump(model, open(model_file, 'wb'))\n",
    "print('Model saved correctly!')\n",
    "\n",
    "print(\"\\nJob finished! =) \\n\")"
   ]
  },
  {
   "cell_type": "code",
   "execution_count": null,
   "metadata": {},
   "outputs": [],
   "source": []
  }
 ],
 "metadata": {
  "kernelspec": {
   "display_name": "Python 3",
   "language": "python",
   "name": "python3"
  },
  "language_info": {
   "codemirror_mode": {
    "name": "ipython",
    "version": 3
   },
   "file_extension": ".py",
   "mimetype": "text/x-python",
   "name": "python",
   "nbconvert_exporter": "python",
   "pygments_lexer": "ipython3",
   "version": "3.6.9"
  }
 },
 "nbformat": 4,
 "nbformat_minor": 4
}
